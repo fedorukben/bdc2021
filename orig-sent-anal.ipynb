{
 "cells": [
  {
   "cell_type": "code",
   "execution_count": 1,
   "id": "8718ec6a",
   "metadata": {},
   "outputs": [
    {
     "name": "stdout",
     "output_type": "stream",
     "text": [
      "Requirement already satisfied: pandas in c:\\users\\18076\\anaconda3\\lib\\site-packages (1.4.2)\n",
      "Requirement already satisfied: nltk in c:\\users\\18076\\anaconda3\\lib\\site-packages (3.7)\n",
      "Requirement already satisfied: progressbar in c:\\users\\18076\\anaconda3\\lib\\site-packages (2.5)\n",
      "Requirement already satisfied: demoji in c:\\users\\18076\\anaconda3\\lib\\site-packages (1.1.0)\n",
      "Requirement already satisfied: python-dateutil>=2.8.1 in c:\\users\\18076\\anaconda3\\lib\\site-packages (from pandas) (2.8.2)\n",
      "Requirement already satisfied: pytz>=2020.1 in c:\\users\\18076\\anaconda3\\lib\\site-packages (from pandas) (2021.3)\n",
      "Requirement already satisfied: numpy>=1.18.5 in c:\\users\\18076\\anaconda3\\lib\\site-packages (from pandas) (1.21.5)\n",
      "Requirement already satisfied: tqdm in c:\\users\\18076\\anaconda3\\lib\\site-packages (from nltk) (4.64.0)\n",
      "Requirement already satisfied: joblib in c:\\users\\18076\\anaconda3\\lib\\site-packages (from nltk) (1.1.0)\n",
      "Requirement already satisfied: regex>=2021.8.3 in c:\\users\\18076\\anaconda3\\lib\\site-packages (from nltk) (2022.3.15)\n",
      "Requirement already satisfied: click in c:\\users\\18076\\anaconda3\\lib\\site-packages (from nltk) (8.0.4)\n",
      "Requirement already satisfied: six>=1.5 in c:\\users\\18076\\anaconda3\\lib\\site-packages (from python-dateutil>=2.8.1->pandas) (1.16.0)\n",
      "Requirement already satisfied: colorama in c:\\users\\18076\\anaconda3\\lib\\site-packages (from click->nltk) (0.4.4)\n"
     ]
    }
   ],
   "source": [
    "!pip install pandas nltk progressbar demoji"
   ]
  },
  {
   "cell_type": "code",
   "execution_count": 2,
   "id": "c6764bc1",
   "metadata": {},
   "outputs": [],
   "source": [
    "import pandas as pd\n",
    "import nltk\n",
    "from nltk.sentiment.vader import SentimentIntensityAnalyzer\n",
    "import demoji\n",
    "from progressbar import ProgressBar"
   ]
  },
  {
   "cell_type": "code",
   "execution_count": 3,
   "id": "a0c67668",
   "metadata": {},
   "outputs": [],
   "source": [
    "pbar = ProgressBar()"
   ]
  },
  {
   "cell_type": "code",
   "execution_count": 4,
   "id": "2ea2a29c",
   "metadata": {},
   "outputs": [
    {
     "name": "stderr",
     "output_type": "stream",
     "text": [
      "[nltk_data] Downloading package vader_lexicon to\n",
      "[nltk_data]     C:\\Users\\18076\\AppData\\Roaming\\nltk_data...\n",
      "[nltk_data]   Package vader_lexicon is already up-to-date!\n",
      "C:\\Users\\18076\\AppData\\Local\\Temp\\ipykernel_29336\\2489016000.py:2: FutureWarning: The demoji.download_codes attribute is deprecated and will be removed from demoji in a future version. It is an unused attribute as emoji codes are now distributed directly with the demoji package.\n",
      "  demoji.download_codes()\n"
     ]
    }
   ],
   "source": [
    "nltk.download('vader_lexicon')\n",
    "demoji.download_codes()"
   ]
  },
  {
   "cell_type": "code",
   "execution_count": 5,
   "id": "5096d345",
   "metadata": {},
   "outputs": [],
   "source": [
    "df = pd.read_pickle('data/pickle/tumblr.pkl')"
   ]
  },
  {
   "cell_type": "code",
   "execution_count": 6,
   "id": "52fb74ed",
   "metadata": {
    "scrolled": true
   },
   "outputs": [
    {
     "data": {
      "text/plain": [
       "0                  a cat tries to catch a mouse on a tablet\n",
       "1                          a man dressed in red is dancing.\n",
       "2            an animal comes close to another in the jungle\n",
       "3         a man in a hat adjusts his tie and makes a wei...\n",
       "4         someone puts a cat on wrapping paper then wrap...\n",
       "                                ...                        \n",
       "125776    a woman with high heels and sexy red underwear...\n",
       "125777    a girl with long dark hair is playing with her...\n",
       "125778    a guy is staring vapidly with one hand over ha...\n",
       "125779     the man wearing a suit is eating a sliced apple.\n",
       "125780                   a man sat down kissing his finger.\n",
       "Name: text, Length: 125781, dtype: object"
      ]
     },
     "execution_count": 6,
     "metadata": {},
     "output_type": "execute_result"
    }
   ],
   "source": [
    "df"
   ]
  },
  {
   "cell_type": "code",
   "execution_count": 7,
   "id": "6a00e7cc",
   "metadata": {},
   "outputs": [],
   "source": [
    "posts_unclean = set(df.tolist())\n",
    "posts_w_emoji = posts_unclean - set([''])"
   ]
  },
  {
   "cell_type": "code",
   "execution_count": 8,
   "id": "911a48da",
   "metadata": {},
   "outputs": [
    {
     "name": "stderr",
     "output_type": "stream",
     "text": [
      "100% |########################################################################|\n"
     ]
    }
   ],
   "source": [
    "posts = set()\n",
    "for post in pbar(posts_w_emoji):\n",
    "    posts.add(demoji.replace_with_desc(str(post), ' '))\n",
    "\n",
    "    \n",
    "# keywords = []\n",
    "# for p in posts:\n",
    "#     for kw in keywords:\n",
    "#         if not kw in p:\n",
    "#             posts.remove(p)\n",
    "    \n",
    "sia = SentimentIntensityAnalyzer()\n",
    "results = []"
   ]
  },
  {
   "cell_type": "code",
   "execution_count": 11,
   "id": "4df9abae",
   "metadata": {},
   "outputs": [],
   "source": [
    "for p in posts:\n",
    "    pol_score = sia.polarity_scores(str(p))\n",
    "    if pol_score['compound'] == 0.0:\n",
    "        continue\n",
    "    pol_score['text'] = str(p)\n",
    "    results.append(pol_score)\n",
    "\n",
    "df = pd.DataFrame.from_records(results)\n",
    "df['label'] = 0\n",
    "df.loc[df['compound'] > 0.1, 'label'] = 1\n",
    "df.loc[df['compound'] < -0.1, 'label'] = -1\n",
    "\n",
    "df.to_pickle('data/pickle/tumblr.pkl')"
   ]
  },
  {
   "cell_type": "code",
   "execution_count": 17,
   "id": "cce05465",
   "metadata": {},
   "outputs": [],
   "source": [
    "import pandas as pd\n",
    "from matplotlib import pyplot as plt\n",
    "from matplotlib import axes\n",
    "from matplotlib import gridspec as gridspec\n",
    "from sklearn.cluster import KMeans\n",
    "import seaborn as sns"
   ]
  },
  {
   "cell_type": "code",
   "execution_count": 20,
   "id": "8dfcc723",
   "metadata": {},
   "outputs": [
    {
     "data": {
      "text/plain": [
       "Text(0, 0.5, 'frequency')"
      ]
     },
     "execution_count": 20,
     "metadata": {},
     "output_type": "execute_result"
    },
    {
     "data": {
      "image/png": "[encoded data removed]",
      "text/plain": [
       "<Figure size 432x288 with 1 Axes>"
      ]
     },
     "metadata": {
      "needs_background": "light"
     },
     "output_type": "display_data"
    }
   ],
   "source": [
    "fig = sns.histplot(data=df, \n",
    "                   x='compound', \n",
    "                   bins=25, \n",
    "                   kde=True, \n",
    "                   color='#36465D')\n",
    "plt.title('Tumblr Frequency of Positivity from Dataset')\n",
    "plt.xlabel('compounded positivty score on [-1, 1]')\n",
    "plt.ylabel('frequency')"
   ]
  },
  {
   "cell_type": "code",
   "execution_count": null,
   "id": "79a27a8b",
   "metadata": {},
   "outputs": [],
   "source": []
  }
 ],
 "metadata": {
  "kernelspec": {
   "display_name": "Python 3 (ipykernel)",
   "language": "python",
   "name": "python3"
  },
  "language_info": {
   "codemirror_mode": {
    "name": "ipython",
    "version": 3
   },
   "file_extension": ".py",
   "mimetype": "text/x-python",
   "name": "python",
   "nbconvert_exporter": "python",
   "pygments_lexer": "ipython3",
   "version": "3.9.12"
  }
 },
 "nbformat": 4,
 "nbformat_minor": 5
}
