{
 "cells": [
  {
   "cell_type": "code",
   "execution_count": 1,
   "id": "9b180ba3",
   "metadata": {},
   "outputs": [
    {
     "name": "stderr",
     "output_type": "stream",
     "text": [
      "[nltk_data] Downloading package stopwords to\n",
      "[nltk_data]     C:\\Users\\18076\\AppData\\Roaming\\nltk_data...\n",
      "[nltk_data]   Package stopwords is already up-to-date!\n",
      "[nltk_data] Downloading package punkt to\n",
      "[nltk_data]     C:\\Users\\18076\\AppData\\Roaming\\nltk_data...\n",
      "[nltk_data]   Package punkt is already up-to-date!\n",
      "[nltk_data] Downloading package wordnet to\n",
      "[nltk_data]     C:\\Users\\18076\\AppData\\Roaming\\nltk_data...\n",
      "[nltk_data]   Package wordnet is already up-to-date!\n"
     ]
    }
   ],
   "source": [
    "import pandas as pd\n",
    "import text2emotion as te\n",
    "import numpy as np\n",
    "from tqdm.notebook import tqdm\n",
    "import matplotlib.pyplot as plt\n",
    "import seaborn as sns\n",
    "tqdm.pandas()"
   ]
  },
  {
   "cell_type": "code",
   "execution_count": 11,
   "id": "41e7fc7c",
   "metadata": {},
   "outputs": [],
   "source": [
    "df = pd.read_pickle('data/pickle/parler.pkl')"
   ]
  },
  {
   "cell_type": "code",
   "execution_count": 12,
   "id": "a60e0d45",
   "metadata": {},
   "outputs": [
    {
     "name": "stdout",
     "output_type": "stream",
     "text": [
      "<class 'pandas.core.frame.DataFrame'>\n",
      "RangeIndex: 129005 entries, 0 to 129004\n",
      "Data columns (total 6 columns):\n",
      " #   Column    Non-Null Count   Dtype  \n",
      "---  ------    --------------   -----  \n",
      " 0   neg       129005 non-null  float64\n",
      " 1   neu       129005 non-null  float64\n",
      " 2   pos       129005 non-null  float64\n",
      " 3   compound  129005 non-null  float64\n",
      " 4   text      129005 non-null  object \n",
      " 5   label     129005 non-null  int64  \n",
      "dtypes: float64(4), int64(1), object(1)\n",
      "memory usage: 5.9+ MB\n"
     ]
    }
   ],
   "source": [
    "df.info()"
   ]
  },
  {
   "cell_type": "code",
   "execution_count": 13,
   "id": "efd1090d",
   "metadata": {},
   "outputs": [],
   "source": [
    "df['hap'] = np.nan\n",
    "df['ang'] = np.nan\n",
    "df['spr'] = np.nan\n",
    "df['sad'] = np.nan\n",
    "df['fri'] = np.nan"
   ]
  },
  {
   "cell_type": "code",
   "execution_count": null,
   "id": "9cc79277",
   "metadata": {},
   "outputs": [
    {
     "data": {
      "application/vnd.jupyter.widget-view+json": {
       "model_id": "c537181b4103402cad860afccb59adfb",
       "version_major": 2,
       "version_minor": 0
      },
      "text/plain": [
       "  0%|          | 0/129005 [00:00<?, ?it/s]"
      ]
     },
     "metadata": {},
     "output_type": "display_data"
    }
   ],
   "source": [
    "def get_emotions(text):\n",
    "    emo = te.get_emotion(text)\n",
    "    return pd.Series({\n",
    "        'hap': emo['Happy'],\n",
    "        'ang': emo['Angry'],\n",
    "        'spr': emo['Surprise'],\n",
    "        'sad': emo['Sad'],\n",
    "        'fri': emo['Fear']\n",
    "    })\n",
    "\n",
    "df[['hap', 'ang', 'spr', 'sad', 'fri']] = df['text'].progress_apply(get_emotions)"
   ]
  },
  {
   "cell_type": "code",
   "execution_count": null,
   "id": "5021fb2b",
   "metadata": {},
   "outputs": [],
   "source": [
    "df = df.drop(df[df['hap'] + df['sad'] + df['ang'] + df['spr'] + df['fri'] == 0].index.values.tolist())\n",
    "df"
   ]
  },
  {
   "cell_type": "code",
   "execution_count": null,
   "id": "782abd1d",
   "metadata": {},
   "outputs": [],
   "source": [
    "df = df.reset_index()\n",
    "df"
   ]
  },
  {
   "cell_type": "code",
   "execution_count": null,
   "id": "b91f9e85",
   "metadata": {},
   "outputs": [],
   "source": [
    "emos = [df['hap'].tolist(),\n",
    "        df['ang'].tolist(),\n",
    "        df['fri'].tolist(),\n",
    "        df['spr'].tolist(),\n",
    "        df['sad'].tolist()]\n",
    "\n",
    "emos_star = []\n",
    "for emo in emos:\n",
    "    emo_star = []\n",
    "    for x in emo:\n",
    "        if x != 0:\n",
    "            emo_star.append(x)\n",
    "    emos_star.append(emo_star)\n",
    "\n",
    "plt.hist(emos_star, bins=10, label=['Happy', 'Angry', 'Frightened', 'Surprised', 'Sad'],\n",
    "         color=[\"green\", \"red\", \"yellow\", \"blue\", \"purple\"], alpha=0.7,\n",
    "         edgecolor='black')\n",
    "plt.legend()\n",
    "plt.title('Histogram emotional analysis of Parlays')\n",
    "plt.xlabel('Emotional score on $[0,1]$')\n",
    "plt.ylabel('Frequency')\n",
    "plt.show()"
   ]
  },
  {
   "cell_type": "code",
   "execution_count": null,
   "id": "a0fa33e2",
   "metadata": {},
   "outputs": [],
   "source": [
    "sns.kdeplot(data=emos_star, color=['red', 'purple', 'yellow', 'blue', 'green'])\n",
    "plt.legend(['Happy', 'Angry', 'Frightened', 'Surprised', 'Sad'])\n",
    "plt.xlabel('Emotional score on $[0,1]$')\n",
    "plt.title(\"KDEs for emotional analysis of Parlays\")"
   ]
  },
  {
   "cell_type": "code",
   "execution_count": null,
   "id": "ea376192",
   "metadata": {},
   "outputs": [],
   "source": [
    "df.to_pickle('data/pickle/emo/emo-parler.pkl')"
   ]
  },
  {
   "cell_type": "code",
   "execution_count": null,
   "id": "46e0b463",
   "metadata": {},
   "outputs": [],
   "source": []
  }
 ],
 "metadata": {
  "kernelspec": {
   "display_name": "Python 3 (ipykernel)",
   "language": "python",
   "name": "python3"
  },
  "language_info": {
   "codemirror_mode": {
    "name": "ipython",
    "version": 3
   },
   "file_extension": ".py",
   "mimetype": "text/x-python",
   "name": "python",
   "nbconvert_exporter": "python",
   "pygments_lexer": "ipython3",
   "version": "3.9.12"
  }
 },
 "nbformat": 4,
 "nbformat_minor": 5
}
